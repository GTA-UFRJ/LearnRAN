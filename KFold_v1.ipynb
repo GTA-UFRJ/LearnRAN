{
 "cells": [
  {
   "cell_type": "code",
   "execution_count": 38,
   "metadata": {},
   "outputs": [
    {
     "name": "stdout",
     "output_type": "stream",
     "text": [
      "O arquivo C:\\Users\\vivia\\.vscode\\cli\\LearnRan\\KFold_v1.ini existe.\n"
     ]
    }
   ],
   "source": [
    "\"\"\"Author: Vivian Maria da Silva e Souza \n",
    "Instutution: Coppe Del UFRJ\"\"\"\n",
    "from sklearn.naive_bayes import GaussianNB\n",
    "from sklearn import utils\n",
    "from sklearn.model_selection import StratifiedKFold\n",
    "from sklearn.model_selection import train_test_split\n",
    "from sklearn.metrics import confusion_matrix\n",
    "from sklearn.metrics import (\n",
    "    accuracy_score,\n",
    "    f1_score)\n",
    "import numpy as np\n",
    "from itertools import combinations\n",
    "import os\n",
    "import configparser\n",
    "import pandas as pd\n",
    "import matplotlib.pyplot as plt\n",
    "from sklearn.preprocessing import StandardScaler\n",
    "\n",
    "configuration_file = 'C:\\\\Users\\\\vivia\\\\.vscode\\\\cli\\\\LearnRan\\\\KFold_v1.ini'\n",
    " \n",
    "if os.path.exists(configuration_file):\n",
    "    print(f\"O arquivo {configuration_file} existe.\")\n",
    "else:\n",
    "    print(f\"O arquivo {configuration_file} não foi encontrado.\")"
   ]
  },
  {
   "cell_type": "code",
   "execution_count": 21,
   "metadata": {},
   "outputs": [],
   "source": [
    "config = configparser.ConfigParser()\n",
    "config.read(configuration_file)\n",
    "for section in config.sections():\n",
    "    print(f\"[{section}]\")\n",
    "    for key, value in config.items(section):\n",
    "        print(f\"{key} = {value}\")\n",
    "    print()\n",
    "\n",
    "rome_slow_close_dir = config['DEFAULT']['rome_slow_close']\n",
    "rome_static_close_dir = config['DEFAULT']['rome_static_close']\n",
    "rome_static_far_dir = config['DEFAULT']['rome_static_far']\n",
    "rome_static_medium_dir = config['DEFAULT']['rome_static_medium']\n",
    "embb_ues = config['DEFAULT']['default_embb_ues']\n",
    "mtc_ues = config['DEFAULT']['default_mtc_ues']\n",
    "urllc_ues = config['DEFAULT']['default_urllc_ues']\n",
    "\n",
    "possible_cases = [rome_slow_close_dir, rome_static_close_dir, rome_static_far_dir, rome_static_medium_dir]\n",
    "\n",
    "pd.options.display.max_rows = 9999\n",
    "\n",
    "classifier = GaussianNB()\n",
    "ues = {}"
   ]
  },
  {
   "cell_type": "code",
   "execution_count": 67,
   "metadata": {},
   "outputs": [],
   "source": [
    "def data_processing (data_list,n_ue):\n",
    "    dl_mcs, dl_brate, ul_mcs, ul_brate = 0,0,0,0\n",
    "    last_time = 0\n",
    "    for j in range (1,len(data_list)):\n",
    "        time_interval = data_list[j][0] - data_list[j-1][0]\n",
    "        if np.isinf(data_list[j-1][1]) or np.isinf(data_list[j-1][2]) or np.isinf(data_list[j-1][3]) or np.isinf(data_list[j-1][4]): continue \n",
    "        last_time += time_interval\n",
    "        dl_mcs += data_list[j-1][1] * time_interval\n",
    "        dl_brate += data_list[j-1][2] * time_interval\n",
    "        ul_mcs += data_list[j-1][3] * time_interval\n",
    "        ul_brate += data_list[j-1][4] * time_interval\n",
    "\n",
    "    dl_mcs = dl_mcs/last_time\n",
    "    dl_brate = dl_brate/last_time\n",
    "    ul_mcs = ul_mcs/last_time\n",
    "    ul_brate = ul_brate/last_time                  \n",
    "    data = [#dl_mcs, \n",
    "        dl_brate, #ul_mcs, \n",
    "        ul_brate]\n",
    "\n",
    "    if str(n_ue) in embb_ues: \n",
    "        class_ue = 'embb'\n",
    "    elif str(n_ue) in mtc_ues:\n",
    "        class_ue = 'mtc'\n",
    "    else: \n",
    "        class_ue = 'urllc'\n",
    "    return data,class_ue"
   ]
  },
  {
   "cell_type": "code",
   "execution_count": 68,
   "metadata": {},
   "outputs": [],
   "source": [
    "wished_cols = [0,7,10,13,15]\n",
    "for n_tr in range (18):\n",
    "    tr = 'tr' + str(n_tr) + '\\\\'\n",
    "    for n_exp in range (1,7): \n",
    "        exp = 'exp' + str (n_exp) + '\\\\'\n",
    "        for n_ue in range (1,41):\n",
    "            if n_ue%10 != 0: \n",
    "                n_bs = n_ue//10 + 1\n",
    "            else: \n",
    "                n_bs = n_ue//10 \n",
    "            bs = 'bs' + str (n_bs) + '\\\\'\n",
    "            a = 'ue'+str(n_ue)+'.csv'\n",
    "            for traffic_case in possible_cases:\n",
    "                try:\n",
    "                    inf_ue = pd.read_csv(traffic_case+tr+exp+bs+a, skiprows=1, usecols = wished_cols,dtype=np.float64)\n",
    "                    inf_ue = np.array(inf_ue)\n",
    "                    data = data_processing (inf_ue,n_ue)\n",
    "                    ues[traffic_case+tr+exp+bs+a] = data\n",
    "                except FileNotFoundError: pass\n"
   ]
  },
  {
   "cell_type": "code",
   "execution_count": 69,
   "metadata": {},
   "outputs": [],
   "source": [
    "def data_used (b):\n",
    "    ue_data, ue_classes = [],[]\n",
    "\n",
    "    all_samples = list(ues.keys())\n",
    "    all_labels = [value[1] for value in ues.values()]  \n",
    "\n",
    "    used_samples, notused_samples, used_labels, notused_labels = train_test_split(\n",
    "    all_samples, all_labels, test_size=1/3, stratify=all_labels, random_state=b)\n",
    "\n",
    "    ues_used = {sample: ues[sample] for sample in used_samples}\n",
    "    print(len(ues_used))\n",
    "    ues_notused = {sample: ues[sample] for sample in notused_samples}\n",
    "\n",
    "    for n in ues_used:\n",
    "        ue_data.append(ues_used[n][0])\n",
    "        ue_classes.append(ues_used[n][1])\n",
    "\n",
    "    return ue_data,ue_classes"
   ]
  },
  {
   "cell_type": "code",
   "execution_count": 73,
   "metadata": {},
   "outputs": [],
   "source": [
    "def gb_classifier (a,k_fold,b):\n",
    "    n = data_used (b)\n",
    "    ue_data_classifier = n[0]\n",
    "    ue_classes_classifier = n[1]\n",
    "    ue_data_classifier = np.array(ue_data_classifier)\n",
    "    ue_classes_classifier = np.array(ue_classes_classifier)\n",
    "\n",
    "    kf = StratifiedKFold(n_splits=k_fold, shuffle=True, random_state=a)\n",
    "\n",
    "    accuracy_scores = []\n",
    "    for train_index, test_index in kf.split(ue_data_classifier,ue_classes_classifier):\n",
    "        data_train, data_test = ue_data_classifier[train_index], ue_data_classifier[test_index]\n",
    "        class_train, class_test = ue_classes_classifier[train_index], ue_classes_classifier[test_index]\n",
    "        classifier.fit(data_train, class_train)\n",
    "        predictions = classifier.predict(data_test)\n",
    "        accuracy = accuracy_score(predictions,class_test)\n",
    "        accuracy_scores.append(accuracy)\n",
    "        confusion_matrixes = confusion_matrix(class_test, predictions, labels=[\"embb\", \"mtc\", \"urllc\"])\n",
    "        print (confusion_matrixes)\n",
    "\n",
    "    mean_accuracy = np.mean(accuracy_scores)\n",
    "    std_accuracy = np.std(accuracy_scores)\n",
    "    print (accuracy_scores)\n",
    "    result = str(mean_accuracy) + ' ; ' + str(std_accuracy)\n",
    "    return result"
   ]
  },
  {
   "cell_type": "code",
   "execution_count": 77,
   "metadata": {},
   "outputs": [
    {
     "name": "stdout",
     "output_type": "stream",
     "text": [
      "15037\n"
     ]
    }
   ],
   "source": [
    "dl_mcs_embb, dl_mcs_mtc, dl_mcs_urllc = [],[],[]\n",
    "dl_brate_embb, dl_brate_mtc, dl_brate_urllc = [],[],[]  \n",
    "ul_mcs_embb, ul_mcs_mtc, ul_mcs_urllc = [],[],[]\n",
    "ul_brate_embb, ul_brate_mtc, ul_brate_urllc = [],[],[]\n",
    "\n",
    "for d,n in ues.values():\n",
    "    if n == 'embb':\n",
    "        #dl_mcs_embb.append(d[0])\n",
    "        dl_brate_embb.append(d[0])\n",
    "        #ul_mcs_embb.append(d[2])\n",
    "        ul_brate_embb.append(d[1])\n",
    "    if n == 'mtc':\n",
    "        #dl_mcs_mtc.append(d[0])\n",
    "        dl_brate_mtc.append(d[0])\n",
    "        #ul_mcs_mtc.append(d[2])\n",
    "        ul_brate_mtc.append(d[1])\n",
    "    else:\n",
    "        #dl_mcs_urllc.append(d[0])\n",
    "        dl_brate_urllc.append(d[0])\n",
    "        #ul_mcs_urllc.append(d[2])\n",
    "        ul_brate_urllc.append(d[1])\n",
    "print(len(ues))\n",
    "\n",
    "\n",
    "\n",
    "\n"
   ]
  },
  {
   "cell_type": "code",
   "execution_count": 82,
   "metadata": {},
   "outputs": [
    {
     "data": {
      "image/png": "[encoded data removed]",
      "text/plain": [
       "<Figure size 640x480 with 1 Axes>"
      ]
     },
     "metadata": {},
     "output_type": "display_data"
    }
   ],
   "source": [
    "data = dl_brate_embb\n",
    "data2 = dl_brate_mtc\n",
    "data3 = dl_brate_urllc\n",
    "\n",
    "# Criar o histograma\n",
    "plt.hist(data, bins=20, color='blue', edgecolor='black', alpha=0.5)\n",
    "plt.hist(data2, bins=20, color='red', edgecolor='black', alpha=0.5)\n",
    "plt.hist(data3, bins=20, color='green', edgecolor='black', alpha=0.5)\n",
    "\n",
    "# Adicionar rótulos e título\n",
    "plt.xlabel('Valores')\n",
    "plt.ylabel('Frequência')\n",
    "plt.title('Histograma')\n",
    "\n",
    "# Mostrar o histograma\n",
    "plt.show()"
   ]
  },
  {
   "cell_type": "code",
   "execution_count": 76,
   "metadata": {},
   "outputs": [
    {
     "name": "stdout",
     "output_type": "stream",
     "text": [
      "10024\n",
      "[[ 743  143  284]\n",
      " [   3  662  254]\n",
      " [   3    1 1249]]\n",
      "[[ 756  137  276]\n",
      " [   4  639  276]\n",
      " [   7    0 1246]]\n",
      "[[ 687  162  320]\n",
      " [   5  657  257]\n",
      " [   3    0 1250]]\n",
      "[0.7941352483542788, 0.7904818916492068, 0.7764142472313679]\n",
      "0.7870104624116179 ; 0.007639659063651273\n"
     ]
    }
   ],
   "source": [
    "print(gb_classifier (10,3,45))"
   ]
  }
 ],
 "metadata": {
  "kernelspec": {
   "display_name": "Python 3",
   "language": "python",
   "name": "python3"
  },
  "language_info": {
   "codemirror_mode": {
    "name": "ipython",
    "version": 3
   },
   "file_extension": ".py",
   "mimetype": "text/x-python",
   "name": "python",
   "nbconvert_exporter": "python",
   "pygments_lexer": "ipython3",
   "version": "3.11.6"
  },
  "orig_nbformat": 4
 },
 "nbformat": 4,
 "nbformat_minor": 2
}
